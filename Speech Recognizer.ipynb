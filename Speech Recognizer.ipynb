{
 "cells": [
  {
   "cell_type": "code",
   "execution_count": 7,
   "id": "adbcc235-088b-4e10-9e5a-bf580bf125f5",
   "metadata": {},
   "outputs": [
    {
     "name": "stdout",
     "output_type": "stream",
     "text": [
      "Requirement already satisfied: SpeechRecognition in c:\\users\\anshi\\anaconda3\\lib\\site-packages (3.14.3)\n",
      "Requirement already satisfied: pyaudio in c:\\users\\anshi\\anaconda3\\lib\\site-packages (0.2.14)\n",
      "Requirement already satisfied: typing-extensions in c:\\users\\anshi\\anaconda3\\lib\\site-packages (from SpeechRecognition) (4.11.0)\n"
     ]
    }
   ],
   "source": [
    "!pip install SpeechRecognition pyaudio"
   ]
  },
  {
   "cell_type": "code",
   "execution_count": 11,
   "id": "0c30f793-35a0-49e0-9018-f3dbc8c6341f",
   "metadata": {},
   "outputs": [],
   "source": [
    "import speech_recognition as sr\n"
   ]
  },
  {
   "cell_type": "code",
   "execution_count": 13,
   "id": "26d96bf5-62ca-4136-9a93-f4caad1e908b",
   "metadata": {},
   "outputs": [],
   "source": [
    "recognizer = sr.Recognizer()"
   ]
  },
  {
   "cell_type": "code",
   "execution_count": 65,
   "id": "a0852ec6-98ac-4d57-81b8-697bc0430449",
   "metadata": {},
   "outputs": [
    {
     "name": "stdout",
     "output_type": "stream",
     "text": [
      "🎤 Please speak something...\n",
      "✅ Audio captured.\n"
     ]
    }
   ],
   "source": [
    "with sr.Microphone() as source:\n",
    "    print(\"🎤 Please speak something...\")\n",
    "    audio = recognizer.listen(source)\n",
    "    print(\"✅ Audio captured.\")"
   ]
  },
  {
   "cell_type": "code",
   "execution_count": 67,
   "id": "bb6067f1-5944-4156-840e-b15e7b177010",
   "metadata": {},
   "outputs": [
    {
     "name": "stdout",
     "output_type": "stream",
     "text": [
      "📝 You said: Avengers Assemble\n"
     ]
    }
   ],
   "source": [
    "try:\n",
    "    text = recognizer.recognize_google(audio)\n",
    "    print(\"📝 You said: \" + text)\n",
    "except sr.UnknownValueError:\n",
    "    print(\"❌ Sorry, I could not understand the audio.\")\n",
    "except sr.RequestError:\n",
    "    print(\"⚠️ Could not request results. Check your internet connection.\")"
   ]
  },
  {
   "cell_type": "code",
   "execution_count": null,
   "id": "53a133b6-f308-42c4-b3fe-edf1426e4ff1",
   "metadata": {},
   "outputs": [],
   "source": []
  }
 ],
 "metadata": {
  "kernelspec": {
   "display_name": "Python [conda env:base] *",
   "language": "python",
   "name": "conda-base-py"
  },
  "language_info": {
   "codemirror_mode": {
    "name": "ipython",
    "version": 3
   },
   "file_extension": ".py",
   "mimetype": "text/x-python",
   "name": "python",
   "nbconvert_exporter": "python",
   "pygments_lexer": "ipython3",
   "version": "3.12.7"
  }
 },
 "nbformat": 4,
 "nbformat_minor": 5
}
